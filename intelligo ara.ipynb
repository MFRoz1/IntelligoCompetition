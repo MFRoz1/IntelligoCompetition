{
  "nbformat": 4,
  "nbformat_minor": 0,
  "metadata": {
    "colab": {
      "provenance": [],
      "authorship_tag": "ABX9TyN75317TTyXHAIoLlujuEf9",
      "include_colab_link": true
    },
    "kernelspec": {
      "name": "python3",
      "display_name": "Python 3"
    },
    "language_info": {
      "name": "python"
    }
  },
  "cells": [
    {
      "cell_type": "markdown",
      "metadata": {
        "id": "view-in-github",
        "colab_type": "text"
      },
      "source": [
        "<a href=\"https://colab.research.google.com/github/MFRoz1/IntelligoCompetition/blob/main/intelligo%20ara.ipynb\" target=\"_parent\"><img src=\"https://colab.research.google.com/assets/colab-badge.svg\" alt=\"Open In Colab\"/></a>"
      ]
    },
    {
      "cell_type": "code",
      "execution_count": null,
      "metadata": {
        "id": "iaenWK9V1WM2"
      },
      "outputs": [],
      "source": [
        "import pandas as pd"
      ]
    },
    {
      "cell_type": "code",
      "source": [
        "cust = pd.read_csv(\"/content/df_Customers.csv\")\n",
        "order = pd.read_csv(\"/content/df_Orders.csv\")\n",
        "item = pd.read_csv(\"/content/df_OrderItems.csv\")\n",
        "payment = pd.read_csv(\"/content/df_Payments.csv\")\n",
        "product = pd.read_csv(\"/content/df_Products.csv\")"
      ],
      "metadata": {
        "id": "v1jTg_TH1hcU"
      },
      "execution_count": null,
      "outputs": []
    },
    {
      "cell_type": "code",
      "source": [
        "print(cust)"
      ],
      "metadata": {
        "colab": {
          "base_uri": "https://localhost:8080/"
        },
        "id": "P7lpyQnS2IAL",
        "outputId": "2e21288b-786f-4437-a0cb-36370fa63abc"
      },
      "execution_count": null,
      "outputs": [
        {
          "output_type": "stream",
          "name": "stdout",
          "text": [
            "        customer_id  customer_zip_code_prefix       customer_city  \\\n",
            "0      hCT0x9JiGXBQ                     58125     varzea paulista   \n",
            "1      PxA7fv9spyhx                      3112  armacao dos buzios   \n",
            "2      g3nXeJkGI0Qw                      4119             jandira   \n",
            "3      EOEsCQ6QlpIg                     18212          uberlandia   \n",
            "4      mVz5LO2Vd6cL                     88868            ilhabela   \n",
            "...             ...                       ...                 ...   \n",
            "89311  bfJtzkBGksdY                     94060              amparo   \n",
            "89312  4hjsCpj6FC7g                     99835             itapevi   \n",
            "89313  DLn56oKHl9bv                      2540           sao paulo   \n",
            "89314  auSfRYUQUOIq                     12288            paulinia   \n",
            "89315  rhevVNXYJnEs                     93048            brasilia   \n",
            "\n",
            "      customer_state  \n",
            "0                 SP  \n",
            "1                 RJ  \n",
            "2                 SP  \n",
            "3                 MG  \n",
            "4                 SP  \n",
            "...              ...  \n",
            "89311             SP  \n",
            "89312             SP  \n",
            "89313             SP  \n",
            "89314             SP  \n",
            "89315             DF  \n",
            "\n",
            "[89316 rows x 4 columns]\n"
          ]
        }
      ]
    },
    {
      "cell_type": "code",
      "source": [
        "print(order)"
      ],
      "metadata": {
        "colab": {
          "base_uri": "https://localhost:8080/"
        },
        "id": "r77hQvHg2Kny",
        "outputId": "be504081-2703-4916-af50-5446cf0ca102"
      },
      "execution_count": null,
      "outputs": [
        {
          "output_type": "stream",
          "name": "stdout",
          "text": [
            "           order_id   customer_id order_status order_purchase_timestamp  \\\n",
            "0      Axfy13Hk4PIk  hCT0x9JiGXBQ    delivered      2017-10-22 18:57:54   \n",
            "1      v6px92oS8cLG  PxA7fv9spyhx    delivered      2018-06-20 21:40:31   \n",
            "2      Ulpf9skrhjfm  g3nXeJkGI0Qw    delivered      2018-02-16 16:19:31   \n",
            "3      bwJVWupf2keN  EOEsCQ6QlpIg    delivered      2018-08-18 18:04:29   \n",
            "4      Dd0QnrMk9Cj5  mVz5LO2Vd6cL    delivered      2017-12-22 16:44:04   \n",
            "...             ...           ...          ...                      ...   \n",
            "89311  zlcLnXGgAabl  bfJtzkBGksdY    delivered      2018-08-19 17:25:36   \n",
            "89312  IlTAoIkILwrq  4hjsCpj6FC7g    delivered      2017-12-15 11:20:27   \n",
            "89313  uA6oXfftGVmT  DLn56oKHl9bv    delivered      2018-07-24 06:39:14   \n",
            "89314  v3QtU6xlGDJp  auSfRYUQUOIq    delivered      2018-08-11 08:04:22   \n",
            "89315  Xo1fqyXOC6CR  rhevVNXYJnEs    delivered      2018-06-09 21:46:58   \n",
            "\n",
            "         order_approved_at order_delivered_timestamp  \\\n",
            "0      2017-10-22 19:14:13       2017-10-26 22:19:52   \n",
            "1      2018-06-20 22:20:20       2018-07-03 22:51:22   \n",
            "2      2018-02-17 16:15:35       2018-02-27 01:29:50   \n",
            "3      2018-08-18 18:15:16       2018-08-27 20:03:51   \n",
            "4      2017-12-22 17:31:31       2018-01-05 19:22:49   \n",
            "...                    ...                       ...   \n",
            "89311  2018-08-21 04:35:30       2018-08-30 14:47:46   \n",
            "89312  2017-12-16 02:37:32       2017-12-20 19:23:40   \n",
            "89313  2018-07-24 11:20:39       2018-07-27 01:41:40   \n",
            "89314  2018-08-11 08:24:40       2018-08-14 21:43:51   \n",
            "89315  2018-06-09 22:19:00       2018-06-14 15:03:46   \n",
            "\n",
            "      order_estimated_delivery_date  \n",
            "0                        2017-11-09  \n",
            "1                        2018-07-24  \n",
            "2                        2018-03-08  \n",
            "3                        2018-09-19  \n",
            "4                        2018-01-18  \n",
            "...                             ...  \n",
            "89311                    2018-09-04  \n",
            "89312                    2018-01-04  \n",
            "89313                    2018-08-01  \n",
            "89314                    2018-08-17  \n",
            "89315                    2018-07-05  \n",
            "\n",
            "[89316 rows x 7 columns]\n"
          ]
        }
      ]
    },
    {
      "cell_type": "code",
      "source": [
        "print(item)"
      ],
      "metadata": {
        "colab": {
          "base_uri": "https://localhost:8080/"
        },
        "id": "sHY5_Xad2Mp3",
        "outputId": "2f56a015-ab97-42c1-a070-363ba969ce89"
      },
      "execution_count": null,
      "outputs": [
        {
          "output_type": "stream",
          "name": "stdout",
          "text": [
            "           order_id    product_id     seller_id    price  shipping_charges\n",
            "0      Axfy13Hk4PIk  90K0C1fIyQUf  ZWM05J9LcBSF   223.51             84.65\n",
            "1      v6px92oS8cLG  qejhpMGGVcsl  IjlpYfhUbRQs   170.80             23.79\n",
            "2      Ulpf9skrhjfm  qUS5d2pEAyxJ  77p2EYxcM9MD    64.40             17.38\n",
            "3      bwJVWupf2keN  639iGvMyv0De  jWzS0ayv9TGf   264.50             30.72\n",
            "4      Dd0QnrMk9Cj5  1lycYGcsic2F  l1pYW6GBnPMr   779.90             30.66\n",
            "...             ...           ...           ...      ...               ...\n",
            "89311  zlcLnXGgAabl  W8vikEizUggJ  2QjevWskirjm    31.99            188.65\n",
            "89312  IlTAoIkILwrq  KXSbyJWtMMwZ  BFS9XJPapWv0   282.00              1.64\n",
            "89313  uA6oXfftGVmT  EG4wDSpFyTth  TuPm19CMKvrM    58.10              4.09\n",
            "89314  v3QtU6xlGDJp  ZWyg4uNWPHjJ  yGbPyLPc8PmT  2899.00            113.01\n",
            "89315  Xo1fqyXOC6CR  5pbzE0rDy61l  mkWN70fui2ro    37.88             70.06\n",
            "\n",
            "[89316 rows x 5 columns]\n"
          ]
        }
      ]
    },
    {
      "cell_type": "code",
      "source": [
        "print(product)"
      ],
      "metadata": {
        "colab": {
          "base_uri": "https://localhost:8080/"
        },
        "id": "37qn8I8Y2SAs",
        "outputId": "7aea561a-efbd-45b9-a8f1-e533690f02ef"
      },
      "execution_count": null,
      "outputs": [
        {
          "output_type": "stream",
          "name": "stdout",
          "text": [
            "         product_id     product_category_name  product_weight_g  \\\n",
            "0      90K0C1fIyQUf                      toys             491.0   \n",
            "1      qejhpMGGVcsl             watches_gifts             440.0   \n",
            "2      qUS5d2pEAyxJ  costruction_tools_garden            2200.0   \n",
            "3      639iGvMyv0De                      toys            1450.0   \n",
            "4      1lycYGcsic2F                      toys             300.0   \n",
            "...             ...                       ...               ...   \n",
            "89311  W8vikEizUggJ                      toys             700.0   \n",
            "89312  KXSbyJWtMMwZ                      toys             600.0   \n",
            "89313  EG4wDSpFyTth             health_beauty             250.0   \n",
            "89314  ZWyg4uNWPHjJ                      toys             250.0   \n",
            "89315  5pbzE0rDy61l                      toys            1750.0   \n",
            "\n",
            "       product_length_cm  product_height_cm  product_width_cm  \n",
            "0                   19.0               12.0              16.0  \n",
            "1                   18.0               14.0              17.0  \n",
            "2                   16.0               16.0              16.0  \n",
            "3                   68.0                3.0              48.0  \n",
            "4                   17.0                4.0              12.0  \n",
            "...                  ...                ...               ...  \n",
            "89311               21.0               14.0              14.0  \n",
            "89312               16.0               16.0              16.0  \n",
            "89313               22.0               10.0              18.0  \n",
            "89314               16.0                2.0              11.0  \n",
            "89315               32.0               18.0              24.0  \n",
            "\n",
            "[89316 rows x 6 columns]\n"
          ]
        }
      ]
    },
    {
      "cell_type": "code",
      "source": [
        "print(payment)"
      ],
      "metadata": {
        "colab": {
          "base_uri": "https://localhost:8080/"
        },
        "id": "0u3FIXEv2Pcz",
        "outputId": "e59624ed-c3ab-44ad-eb2a-35d26c9f6fe2"
      },
      "execution_count": null,
      "outputs": [
        {
          "output_type": "stream",
          "name": "stdout",
          "text": [
            "           order_id  payment_sequential payment_type  payment_installments  \\\n",
            "0      Axfy13Hk4PIk                   1  credit_card                     1   \n",
            "1      v6px92oS8cLG                   1  credit_card                     8   \n",
            "2      Ulpf9skrhjfm                   1  credit_card                     4   \n",
            "3      bwJVWupf2keN                   1  credit_card                     2   \n",
            "4      Dd0QnrMk9Cj5                   1  credit_card                     1   \n",
            "...             ...                 ...          ...                   ...   \n",
            "89311  zlcLnXGgAabl                   1       wallet                     1   \n",
            "89312  IlTAoIkILwrq                   1       wallet                     1   \n",
            "89313  uA6oXfftGVmT                   1  credit_card                     1   \n",
            "89314  v3QtU6xlGDJp                   1      voucher                     1   \n",
            "89315  Xo1fqyXOC6CR                   1  credit_card                    10   \n",
            "\n",
            "       payment_value  \n",
            "0             259.14  \n",
            "1             382.39  \n",
            "2             249.25  \n",
            "3              27.79  \n",
            "4              76.15  \n",
            "...              ...  \n",
            "89311         128.00  \n",
            "89312         106.86  \n",
            "89313         376.39  \n",
            "89314          48.05  \n",
            "89315         211.93  \n",
            "\n",
            "[89316 rows x 5 columns]\n"
          ]
        }
      ]
    },
    {
      "cell_type": "code",
      "source": [
        "order.isnull().sum()"
      ],
      "metadata": {
        "colab": {
          "base_uri": "https://localhost:8080/"
        },
        "id": "yp0B0i3y4x1T",
        "outputId": "4e024e3f-8dd5-4291-fd32-f902e90c0113"
      },
      "execution_count": null,
      "outputs": [
        {
          "output_type": "execute_result",
          "data": {
            "text/plain": [
              "order_id                            0\n",
              "customer_id                         0\n",
              "order_status                        0\n",
              "order_purchase_timestamp            0\n",
              "order_approved_at                   9\n",
              "order_delivered_timestamp        1889\n",
              "order_estimated_delivery_date       0\n",
              "dtype: int64"
            ]
          },
          "metadata": {},
          "execution_count": 10
        }
      ]
    },
    {
      "cell_type": "code",
      "source": [
        "new = pd.DataFrame(item[['shipping_charges']]).join(order[['order_id', 'customer_id', 'order_status', 'order_purchase_timestamp','order_approved_at', 'order_delivered_timestamp',\n",
        "       'order_estimated_delivery_date']])"
      ],
      "metadata": {
        "id": "JYRKtH_W80Dr"
      },
      "execution_count": null,
      "outputs": []
    },
    {
      "cell_type": "code",
      "source": [
        "print(new)"
      ],
      "metadata": {
        "colab": {
          "base_uri": "https://localhost:8080/"
        },
        "id": "lKp0vHQA9hw3",
        "outputId": "72dbd17c-33a5-4bcb-b8cc-de0fc7e56c33"
      },
      "execution_count": null,
      "outputs": [
        {
          "output_type": "stream",
          "name": "stdout",
          "text": [
            "       shipping_charges      order_id   customer_id order_status  \\\n",
            "0                 84.65  Axfy13Hk4PIk  hCT0x9JiGXBQ    delivered   \n",
            "1                 23.79  v6px92oS8cLG  PxA7fv9spyhx    delivered   \n",
            "2                 17.38  Ulpf9skrhjfm  g3nXeJkGI0Qw    delivered   \n",
            "3                 30.72  bwJVWupf2keN  EOEsCQ6QlpIg    delivered   \n",
            "4                 30.66  Dd0QnrMk9Cj5  mVz5LO2Vd6cL    delivered   \n",
            "...                 ...           ...           ...          ...   \n",
            "89311            188.65  zlcLnXGgAabl  bfJtzkBGksdY    delivered   \n",
            "89312              1.64  IlTAoIkILwrq  4hjsCpj6FC7g    delivered   \n",
            "89313              4.09  uA6oXfftGVmT  DLn56oKHl9bv    delivered   \n",
            "89314            113.01  v3QtU6xlGDJp  auSfRYUQUOIq    delivered   \n",
            "89315             70.06  Xo1fqyXOC6CR  rhevVNXYJnEs    delivered   \n",
            "\n",
            "      order_purchase_timestamp    order_approved_at order_delivered_timestamp  \\\n",
            "0          2017-10-22 18:57:54  2017-10-22 19:14:13       2017-10-26 22:19:52   \n",
            "1          2018-06-20 21:40:31  2018-06-20 22:20:20       2018-07-03 22:51:22   \n",
            "2          2018-02-16 16:19:31  2018-02-17 16:15:35       2018-02-27 01:29:50   \n",
            "3          2018-08-18 18:04:29  2018-08-18 18:15:16       2018-08-27 20:03:51   \n",
            "4          2017-12-22 16:44:04  2017-12-22 17:31:31       2018-01-05 19:22:49   \n",
            "...                        ...                  ...                       ...   \n",
            "89311      2018-08-19 17:25:36  2018-08-21 04:35:30       2018-08-30 14:47:46   \n",
            "89312      2017-12-15 11:20:27  2017-12-16 02:37:32       2017-12-20 19:23:40   \n",
            "89313      2018-07-24 06:39:14  2018-07-24 11:20:39       2018-07-27 01:41:40   \n",
            "89314      2018-08-11 08:04:22  2018-08-11 08:24:40       2018-08-14 21:43:51   \n",
            "89315      2018-06-09 21:46:58  2018-06-09 22:19:00       2018-06-14 15:03:46   \n",
            "\n",
            "      order_estimated_delivery_date  \n",
            "0                        2017-11-09  \n",
            "1                        2018-07-24  \n",
            "2                        2018-03-08  \n",
            "3                        2018-09-19  \n",
            "4                        2018-01-18  \n",
            "...                             ...  \n",
            "89311                    2018-09-04  \n",
            "89312                    2018-01-04  \n",
            "89313                    2018-08-01  \n",
            "89314                    2018-08-17  \n",
            "89315                    2018-07-05  \n",
            "\n",
            "[89316 rows x 8 columns]\n"
          ]
        }
      ]
    },
    {
      "cell_type": "markdown",
      "source": [
        "## Missing Values"
      ],
      "metadata": {
        "id": "sEMkch3D-Lb7"
      }
    },
    {
      "cell_type": "code",
      "source": [
        "new.isna().sum()"
      ],
      "metadata": {
        "colab": {
          "base_uri": "https://localhost:8080/"
        },
        "id": "oUuq44Uz9oua",
        "outputId": "461e133e-434f-4939-b4e1-9781567512ce"
      },
      "execution_count": null,
      "outputs": [
        {
          "output_type": "execute_result",
          "data": {
            "text/plain": [
              "shipping_charges                    0\n",
              "order_id                            0\n",
              "customer_id                         0\n",
              "order_status                        0\n",
              "order_purchase_timestamp            0\n",
              "order_approved_at                   9\n",
              "order_delivered_timestamp        1889\n",
              "order_estimated_delivery_date       0\n",
              "dtype: int64"
            ]
          },
          "metadata": {},
          "execution_count": 80
        }
      ]
    },
    {
      "cell_type": "code",
      "source": [
        "new_drop = new.dropna()"
      ],
      "metadata": {
        "id": "EsuUJRg_9r_3"
      },
      "execution_count": null,
      "outputs": []
    },
    {
      "cell_type": "code",
      "source": [
        "new_drop.isna().sum()"
      ],
      "metadata": {
        "colab": {
          "base_uri": "https://localhost:8080/"
        },
        "id": "mbEnM01d95ZE",
        "outputId": "a7046f2f-264f-40d1-f653-18a4eb18ac84"
      },
      "execution_count": null,
      "outputs": [
        {
          "output_type": "execute_result",
          "data": {
            "text/plain": [
              "shipping_charges                 0\n",
              "order_id                         0\n",
              "customer_id                      0\n",
              "order_status                     0\n",
              "order_purchase_timestamp         0\n",
              "order_approved_at                0\n",
              "order_delivered_timestamp        0\n",
              "order_estimated_delivery_date    0\n",
              "dtype: int64"
            ]
          },
          "metadata": {},
          "execution_count": 82
        }
      ]
    },
    {
      "cell_type": "markdown",
      "source": [
        "## Encoding"
      ],
      "metadata": {
        "id": "T4b_XfhR-Irq"
      }
    },
    {
      "cell_type": "code",
      "source": [
        "from sklearn.preprocessing import OneHotEncoder"
      ],
      "metadata": {
        "id": "zajOZULj-IMN"
      },
      "execution_count": null,
      "outputs": []
    },
    {
      "cell_type": "code",
      "source": [
        "#Mendefinisikan nilai unique dari masing masing kolom yang akan di encodimg\n",
        "col = sorted(new_drop['order_status'].unique().tolist())\n",
        "print(col)"
      ],
      "metadata": {
        "colab": {
          "base_uri": "https://localhost:8080/"
        },
        "id": "KZlHgeEt-OMV",
        "outputId": "0dfc80fb-f409-42b8-b913-7de09a027c12"
      },
      "execution_count": null,
      "outputs": [
        {
          "output_type": "stream",
          "name": "stdout",
          "text": [
            "['canceled', 'delivered']\n"
          ]
        }
      ]
    },
    {
      "cell_type": "code",
      "source": [
        "# Mengubah kolom menggunakan OneHotEncoder\n",
        "ohe = OneHotEncoder(handle_unknown = 'ignore')\n",
        "encod = pd.DataFrame(ohe.fit_transform(new_drop[['order_status']]).toarray(), columns = col)\n",
        "encod"
      ],
      "metadata": {
        "colab": {
          "base_uri": "https://localhost:8080/",
          "height": 424
        },
        "id": "A2VovtbI_Bsx",
        "outputId": "473e9b6d-95de-4c0b-e854-327c665bda1a"
      },
      "execution_count": null,
      "outputs": [
        {
          "output_type": "execute_result",
          "data": {
            "text/plain": [
              "       canceled  delivered\n",
              "0           0.0        1.0\n",
              "1           0.0        1.0\n",
              "2           0.0        1.0\n",
              "3           0.0        1.0\n",
              "4           0.0        1.0\n",
              "...         ...        ...\n",
              "87413       0.0        1.0\n",
              "87414       0.0        1.0\n",
              "87415       0.0        1.0\n",
              "87416       0.0        1.0\n",
              "87417       0.0        1.0\n",
              "\n",
              "[87418 rows x 2 columns]"
            ],
            "text/html": [
              "\n",
              "  <div id=\"df-0c5f1305-4a1b-40ac-8244-35780f3392fa\" class=\"colab-df-container\">\n",
              "    <div>\n",
              "<style scoped>\n",
              "    .dataframe tbody tr th:only-of-type {\n",
              "        vertical-align: middle;\n",
              "    }\n",
              "\n",
              "    .dataframe tbody tr th {\n",
              "        vertical-align: top;\n",
              "    }\n",
              "\n",
              "    .dataframe thead th {\n",
              "        text-align: right;\n",
              "    }\n",
              "</style>\n",
              "<table border=\"1\" class=\"dataframe\">\n",
              "  <thead>\n",
              "    <tr style=\"text-align: right;\">\n",
              "      <th></th>\n",
              "      <th>canceled</th>\n",
              "      <th>delivered</th>\n",
              "    </tr>\n",
              "  </thead>\n",
              "  <tbody>\n",
              "    <tr>\n",
              "      <th>0</th>\n",
              "      <td>0.0</td>\n",
              "      <td>1.0</td>\n",
              "    </tr>\n",
              "    <tr>\n",
              "      <th>1</th>\n",
              "      <td>0.0</td>\n",
              "      <td>1.0</td>\n",
              "    </tr>\n",
              "    <tr>\n",
              "      <th>2</th>\n",
              "      <td>0.0</td>\n",
              "      <td>1.0</td>\n",
              "    </tr>\n",
              "    <tr>\n",
              "      <th>3</th>\n",
              "      <td>0.0</td>\n",
              "      <td>1.0</td>\n",
              "    </tr>\n",
              "    <tr>\n",
              "      <th>4</th>\n",
              "      <td>0.0</td>\n",
              "      <td>1.0</td>\n",
              "    </tr>\n",
              "    <tr>\n",
              "      <th>...</th>\n",
              "      <td>...</td>\n",
              "      <td>...</td>\n",
              "    </tr>\n",
              "    <tr>\n",
              "      <th>87413</th>\n",
              "      <td>0.0</td>\n",
              "      <td>1.0</td>\n",
              "    </tr>\n",
              "    <tr>\n",
              "      <th>87414</th>\n",
              "      <td>0.0</td>\n",
              "      <td>1.0</td>\n",
              "    </tr>\n",
              "    <tr>\n",
              "      <th>87415</th>\n",
              "      <td>0.0</td>\n",
              "      <td>1.0</td>\n",
              "    </tr>\n",
              "    <tr>\n",
              "      <th>87416</th>\n",
              "      <td>0.0</td>\n",
              "      <td>1.0</td>\n",
              "    </tr>\n",
              "    <tr>\n",
              "      <th>87417</th>\n",
              "      <td>0.0</td>\n",
              "      <td>1.0</td>\n",
              "    </tr>\n",
              "  </tbody>\n",
              "</table>\n",
              "<p>87418 rows × 2 columns</p>\n",
              "</div>\n",
              "    <div class=\"colab-df-buttons\">\n",
              "\n",
              "  <div class=\"colab-df-container\">\n",
              "    <button class=\"colab-df-convert\" onclick=\"convertToInteractive('df-0c5f1305-4a1b-40ac-8244-35780f3392fa')\"\n",
              "            title=\"Convert this dataframe to an interactive table.\"\n",
              "            style=\"display:none;\">\n",
              "\n",
              "  <svg xmlns=\"http://www.w3.org/2000/svg\" height=\"24px\" viewBox=\"0 -960 960 960\">\n",
              "    <path d=\"M120-120v-720h720v720H120Zm60-500h600v-160H180v160Zm220 220h160v-160H400v160Zm0 220h160v-160H400v160ZM180-400h160v-160H180v160Zm440 0h160v-160H620v160ZM180-180h160v-160H180v160Zm440 0h160v-160H620v160Z\"/>\n",
              "  </svg>\n",
              "    </button>\n",
              "\n",
              "  <style>\n",
              "    .colab-df-container {\n",
              "      display:flex;\n",
              "      gap: 12px;\n",
              "    }\n",
              "\n",
              "    .colab-df-convert {\n",
              "      background-color: #E8F0FE;\n",
              "      border: none;\n",
              "      border-radius: 50%;\n",
              "      cursor: pointer;\n",
              "      display: none;\n",
              "      fill: #1967D2;\n",
              "      height: 32px;\n",
              "      padding: 0 0 0 0;\n",
              "      width: 32px;\n",
              "    }\n",
              "\n",
              "    .colab-df-convert:hover {\n",
              "      background-color: #E2EBFA;\n",
              "      box-shadow: 0px 1px 2px rgba(60, 64, 67, 0.3), 0px 1px 3px 1px rgba(60, 64, 67, 0.15);\n",
              "      fill: #174EA6;\n",
              "    }\n",
              "\n",
              "    .colab-df-buttons div {\n",
              "      margin-bottom: 4px;\n",
              "    }\n",
              "\n",
              "    [theme=dark] .colab-df-convert {\n",
              "      background-color: #3B4455;\n",
              "      fill: #D2E3FC;\n",
              "    }\n",
              "\n",
              "    [theme=dark] .colab-df-convert:hover {\n",
              "      background-color: #434B5C;\n",
              "      box-shadow: 0px 1px 3px 1px rgba(0, 0, 0, 0.15);\n",
              "      filter: drop-shadow(0px 1px 2px rgba(0, 0, 0, 0.3));\n",
              "      fill: #FFFFFF;\n",
              "    }\n",
              "  </style>\n",
              "\n",
              "    <script>\n",
              "      const buttonEl =\n",
              "        document.querySelector('#df-0c5f1305-4a1b-40ac-8244-35780f3392fa button.colab-df-convert');\n",
              "      buttonEl.style.display =\n",
              "        google.colab.kernel.accessAllowed ? 'block' : 'none';\n",
              "\n",
              "      async function convertToInteractive(key) {\n",
              "        const element = document.querySelector('#df-0c5f1305-4a1b-40ac-8244-35780f3392fa');\n",
              "        const dataTable =\n",
              "          await google.colab.kernel.invokeFunction('convertToInteractive',\n",
              "                                                    [key], {});\n",
              "        if (!dataTable) return;\n",
              "\n",
              "        const docLinkHtml = 'Like what you see? Visit the ' +\n",
              "          '<a target=\"_blank\" href=https://colab.research.google.com/notebooks/data_table.ipynb>data table notebook</a>'\n",
              "          + ' to learn more about interactive tables.';\n",
              "        element.innerHTML = '';\n",
              "        dataTable['output_type'] = 'display_data';\n",
              "        await google.colab.output.renderOutput(dataTable, element);\n",
              "        const docLink = document.createElement('div');\n",
              "        docLink.innerHTML = docLinkHtml;\n",
              "        element.appendChild(docLink);\n",
              "      }\n",
              "    </script>\n",
              "  </div>\n",
              "\n",
              "\n",
              "<div id=\"df-9c23618a-ed06-4c1a-9205-543c6eb437f3\">\n",
              "  <button class=\"colab-df-quickchart\" onclick=\"quickchart('df-9c23618a-ed06-4c1a-9205-543c6eb437f3')\"\n",
              "            title=\"Suggest charts.\"\n",
              "            style=\"display:none;\">\n",
              "\n",
              "<svg xmlns=\"http://www.w3.org/2000/svg\" height=\"24px\"viewBox=\"0 0 24 24\"\n",
              "     width=\"24px\">\n",
              "    <g>\n",
              "        <path d=\"M19 3H5c-1.1 0-2 .9-2 2v14c0 1.1.9 2 2 2h14c1.1 0 2-.9 2-2V5c0-1.1-.9-2-2-2zM9 17H7v-7h2v7zm4 0h-2V7h2v10zm4 0h-2v-4h2v4z\"/>\n",
              "    </g>\n",
              "</svg>\n",
              "  </button>\n",
              "\n",
              "<style>\n",
              "  .colab-df-quickchart {\n",
              "      --bg-color: #E8F0FE;\n",
              "      --fill-color: #1967D2;\n",
              "      --hover-bg-color: #E2EBFA;\n",
              "      --hover-fill-color: #174EA6;\n",
              "      --disabled-fill-color: #AAA;\n",
              "      --disabled-bg-color: #DDD;\n",
              "  }\n",
              "\n",
              "  [theme=dark] .colab-df-quickchart {\n",
              "      --bg-color: #3B4455;\n",
              "      --fill-color: #D2E3FC;\n",
              "      --hover-bg-color: #434B5C;\n",
              "      --hover-fill-color: #FFFFFF;\n",
              "      --disabled-bg-color: #3B4455;\n",
              "      --disabled-fill-color: #666;\n",
              "  }\n",
              "\n",
              "  .colab-df-quickchart {\n",
              "    background-color: var(--bg-color);\n",
              "    border: none;\n",
              "    border-radius: 50%;\n",
              "    cursor: pointer;\n",
              "    display: none;\n",
              "    fill: var(--fill-color);\n",
              "    height: 32px;\n",
              "    padding: 0;\n",
              "    width: 32px;\n",
              "  }\n",
              "\n",
              "  .colab-df-quickchart:hover {\n",
              "    background-color: var(--hover-bg-color);\n",
              "    box-shadow: 0 1px 2px rgba(60, 64, 67, 0.3), 0 1px 3px 1px rgba(60, 64, 67, 0.15);\n",
              "    fill: var(--button-hover-fill-color);\n",
              "  }\n",
              "\n",
              "  .colab-df-quickchart-complete:disabled,\n",
              "  .colab-df-quickchart-complete:disabled:hover {\n",
              "    background-color: var(--disabled-bg-color);\n",
              "    fill: var(--disabled-fill-color);\n",
              "    box-shadow: none;\n",
              "  }\n",
              "\n",
              "  .colab-df-spinner {\n",
              "    border: 2px solid var(--fill-color);\n",
              "    border-color: transparent;\n",
              "    border-bottom-color: var(--fill-color);\n",
              "    animation:\n",
              "      spin 1s steps(1) infinite;\n",
              "  }\n",
              "\n",
              "  @keyframes spin {\n",
              "    0% {\n",
              "      border-color: transparent;\n",
              "      border-bottom-color: var(--fill-color);\n",
              "      border-left-color: var(--fill-color);\n",
              "    }\n",
              "    20% {\n",
              "      border-color: transparent;\n",
              "      border-left-color: var(--fill-color);\n",
              "      border-top-color: var(--fill-color);\n",
              "    }\n",
              "    30% {\n",
              "      border-color: transparent;\n",
              "      border-left-color: var(--fill-color);\n",
              "      border-top-color: var(--fill-color);\n",
              "      border-right-color: var(--fill-color);\n",
              "    }\n",
              "    40% {\n",
              "      border-color: transparent;\n",
              "      border-right-color: var(--fill-color);\n",
              "      border-top-color: var(--fill-color);\n",
              "    }\n",
              "    60% {\n",
              "      border-color: transparent;\n",
              "      border-right-color: var(--fill-color);\n",
              "    }\n",
              "    80% {\n",
              "      border-color: transparent;\n",
              "      border-right-color: var(--fill-color);\n",
              "      border-bottom-color: var(--fill-color);\n",
              "    }\n",
              "    90% {\n",
              "      border-color: transparent;\n",
              "      border-bottom-color: var(--fill-color);\n",
              "    }\n",
              "  }\n",
              "</style>\n",
              "\n",
              "  <script>\n",
              "    async function quickchart(key) {\n",
              "      const quickchartButtonEl =\n",
              "        document.querySelector('#' + key + ' button');\n",
              "      quickchartButtonEl.disabled = true;  // To prevent multiple clicks.\n",
              "      quickchartButtonEl.classList.add('colab-df-spinner');\n",
              "      try {\n",
              "        const charts = await google.colab.kernel.invokeFunction(\n",
              "            'suggestCharts', [key], {});\n",
              "      } catch (error) {\n",
              "        console.error('Error during call to suggestCharts:', error);\n",
              "      }\n",
              "      quickchartButtonEl.classList.remove('colab-df-spinner');\n",
              "      quickchartButtonEl.classList.add('colab-df-quickchart-complete');\n",
              "    }\n",
              "    (() => {\n",
              "      let quickchartButtonEl =\n",
              "        document.querySelector('#df-9c23618a-ed06-4c1a-9205-543c6eb437f3 button');\n",
              "      quickchartButtonEl.style.display =\n",
              "        google.colab.kernel.accessAllowed ? 'block' : 'none';\n",
              "    })();\n",
              "  </script>\n",
              "</div>\n",
              "    </div>\n",
              "  </div>\n"
            ]
          },
          "metadata": {},
          "execution_count": 36
        }
      ]
    },
    {
      "cell_type": "code",
      "source": [
        "from datetime import datetime"
      ],
      "metadata": {
        "id": "ovM6Jy-BA60b"
      },
      "execution_count": null,
      "outputs": []
    },
    {
      "cell_type": "code",
      "source": [
        "new_drop1 = pd.DataFrame(new_drop)"
      ],
      "metadata": {
        "id": "GzIpvO_CITdh"
      },
      "execution_count": null,
      "outputs": []
    },
    {
      "cell_type": "code",
      "source": [
        "new_drop1[\"order_delivered_timestamp\"] = pd.to_datetime(new_drop1[\"order_delivered_timestamp\"])\n",
        "new_drop1[\"order_estimated_delivery_date\"] = pd.to_datetime(new_drop1[\"order_estimated_delivery_date\"])\n",
        "\n",
        "new_drop1[\"is_late\"] = new_drop1[\"order_delivered_timestamp\"] > new_drop1[\"order_estimated_delivery_date\"]\n",
        "\n",
        "print(new_drop1)"
      ],
      "metadata": {
        "colab": {
          "base_uri": "https://localhost:8080/"
        },
        "id": "lnG-sTw2HvA3",
        "outputId": "c8efda93-a2b8-49b9-a521-f754ff4909d8"
      },
      "execution_count": null,
      "outputs": [
        {
          "output_type": "stream",
          "name": "stdout",
          "text": [
            "       shipping_charges      order_id   customer_id order_status  \\\n",
            "0                 84.65  Axfy13Hk4PIk  hCT0x9JiGXBQ    delivered   \n",
            "1                 23.79  v6px92oS8cLG  PxA7fv9spyhx    delivered   \n",
            "2                 17.38  Ulpf9skrhjfm  g3nXeJkGI0Qw    delivered   \n",
            "3                 30.72  bwJVWupf2keN  EOEsCQ6QlpIg    delivered   \n",
            "4                 30.66  Dd0QnrMk9Cj5  mVz5LO2Vd6cL    delivered   \n",
            "...                 ...           ...           ...          ...   \n",
            "89311            188.65  zlcLnXGgAabl  bfJtzkBGksdY    delivered   \n",
            "89312              1.64  IlTAoIkILwrq  4hjsCpj6FC7g    delivered   \n",
            "89313              4.09  uA6oXfftGVmT  DLn56oKHl9bv    delivered   \n",
            "89314            113.01  v3QtU6xlGDJp  auSfRYUQUOIq    delivered   \n",
            "89315             70.06  Xo1fqyXOC6CR  rhevVNXYJnEs    delivered   \n",
            "\n",
            "      order_purchase_timestamp    order_approved_at order_delivered_timestamp  \\\n",
            "0          2017-10-22 18:57:54  2017-10-22 19:14:13       2017-10-26 22:19:52   \n",
            "1          2018-06-20 21:40:31  2018-06-20 22:20:20       2018-07-03 22:51:22   \n",
            "2          2018-02-16 16:19:31  2018-02-17 16:15:35       2018-02-27 01:29:50   \n",
            "3          2018-08-18 18:04:29  2018-08-18 18:15:16       2018-08-27 20:03:51   \n",
            "4          2017-12-22 16:44:04  2017-12-22 17:31:31       2018-01-05 19:22:49   \n",
            "...                        ...                  ...                       ...   \n",
            "89311      2018-08-19 17:25:36  2018-08-21 04:35:30       2018-08-30 14:47:46   \n",
            "89312      2017-12-15 11:20:27  2017-12-16 02:37:32       2017-12-20 19:23:40   \n",
            "89313      2018-07-24 06:39:14  2018-07-24 11:20:39       2018-07-27 01:41:40   \n",
            "89314      2018-08-11 08:04:22  2018-08-11 08:24:40       2018-08-14 21:43:51   \n",
            "89315      2018-06-09 21:46:58  2018-06-09 22:19:00       2018-06-14 15:03:46   \n",
            "\n",
            "      order_estimated_delivery_date  is_late  \n",
            "0                        2017-11-09    False  \n",
            "1                        2018-07-24    False  \n",
            "2                        2018-03-08    False  \n",
            "3                        2018-09-19    False  \n",
            "4                        2018-01-18    False  \n",
            "...                             ...      ...  \n",
            "89311                    2018-09-04    False  \n",
            "89312                    2018-01-04    False  \n",
            "89313                    2018-08-01    False  \n",
            "89314                    2018-08-17    False  \n",
            "89315                    2018-07-05    False  \n",
            "\n",
            "[87418 rows x 9 columns]\n"
          ]
        }
      ]
    },
    {
      "cell_type": "code",
      "source": [
        "fix = {\"is_late\" : {False : 0, True : 1}}\n",
        "fixed = new_drop1.replace(fix)"
      ],
      "metadata": {
        "id": "AAjJSJNdKsvr"
      },
      "execution_count": null,
      "outputs": []
    },
    {
      "cell_type": "markdown",
      "source": [
        "# yang ini hasilnya ji :"
      ],
      "metadata": {
        "id": "sv8Ytq9Is7yn"
      }
    },
    {
      "cell_type": "code",
      "source": [
        "print(fixed)"
      ],
      "metadata": {
        "colab": {
          "base_uri": "https://localhost:8080/"
        },
        "id": "m8GyiI45K6gv",
        "outputId": "2f1d542a-14a4-4931-e631-229407dbfa14"
      },
      "execution_count": null,
      "outputs": [
        {
          "output_type": "stream",
          "name": "stdout",
          "text": [
            "       shipping_charges      order_id   customer_id order_status  \\\n",
            "0                 84.65  Axfy13Hk4PIk  hCT0x9JiGXBQ    delivered   \n",
            "1                 23.79  v6px92oS8cLG  PxA7fv9spyhx    delivered   \n",
            "2                 17.38  Ulpf9skrhjfm  g3nXeJkGI0Qw    delivered   \n",
            "3                 30.72  bwJVWupf2keN  EOEsCQ6QlpIg    delivered   \n",
            "4                 30.66  Dd0QnrMk9Cj5  mVz5LO2Vd6cL    delivered   \n",
            "...                 ...           ...           ...          ...   \n",
            "89311            188.65  zlcLnXGgAabl  bfJtzkBGksdY    delivered   \n",
            "89312              1.64  IlTAoIkILwrq  4hjsCpj6FC7g    delivered   \n",
            "89313              4.09  uA6oXfftGVmT  DLn56oKHl9bv    delivered   \n",
            "89314            113.01  v3QtU6xlGDJp  auSfRYUQUOIq    delivered   \n",
            "89315             70.06  Xo1fqyXOC6CR  rhevVNXYJnEs    delivered   \n",
            "\n",
            "      order_purchase_timestamp    order_approved_at order_delivered_timestamp  \\\n",
            "0          2017-10-22 18:57:54  2017-10-22 19:14:13       2017-10-26 22:19:52   \n",
            "1          2018-06-20 21:40:31  2018-06-20 22:20:20       2018-07-03 22:51:22   \n",
            "2          2018-02-16 16:19:31  2018-02-17 16:15:35       2018-02-27 01:29:50   \n",
            "3          2018-08-18 18:04:29  2018-08-18 18:15:16       2018-08-27 20:03:51   \n",
            "4          2017-12-22 16:44:04  2017-12-22 17:31:31       2018-01-05 19:22:49   \n",
            "...                        ...                  ...                       ...   \n",
            "89311      2018-08-19 17:25:36  2018-08-21 04:35:30       2018-08-30 14:47:46   \n",
            "89312      2017-12-15 11:20:27  2017-12-16 02:37:32       2017-12-20 19:23:40   \n",
            "89313      2018-07-24 06:39:14  2018-07-24 11:20:39       2018-07-27 01:41:40   \n",
            "89314      2018-08-11 08:04:22  2018-08-11 08:24:40       2018-08-14 21:43:51   \n",
            "89315      2018-06-09 21:46:58  2018-06-09 22:19:00       2018-06-14 15:03:46   \n",
            "\n",
            "      order_estimated_delivery_date  is_late  \n",
            "0                        2017-11-09        0  \n",
            "1                        2018-07-24        0  \n",
            "2                        2018-03-08        0  \n",
            "3                        2018-09-19        0  \n",
            "4                        2018-01-18        0  \n",
            "...                             ...      ...  \n",
            "89311                    2018-09-04        0  \n",
            "89312                    2018-01-04        0  \n",
            "89313                    2018-08-01        0  \n",
            "89314                    2018-08-17        0  \n",
            "89315                    2018-07-05        0  \n",
            "\n",
            "[87418 rows x 9 columns]\n"
          ]
        }
      ]
    },
    {
      "cell_type": "code",
      "source": [
        "import pandas as pd\n",
        "from datetime import datetime\n",
        "\n",
        "# Sample DataFrame\n",
        "data = {'date_column1': ['2023-09-29', '2023-09-30', '2023-10-01'],\n",
        "        'date_column2': ['2023-09-28', '2023-09-30', '2023-10-02']}\n",
        "\n",
        "df = pd.DataFrame(data)\n",
        "\n",
        "# Convert the date strings to datetime objects\n",
        "df['date_column1'] = pd.to_datetime(df['date_column1'])\n",
        "df['date_column2'] = pd.to_datetime(df['date_column2'])\n",
        "\n",
        "# Now, you can compare the dates\n",
        "df['date_comparison'] = df['date_column1'] > df['date_column2']\n",
        "\n",
        "# Print the DataFrame to see the results\n",
        "print(df)\n"
      ],
      "metadata": {
        "colab": {
          "base_uri": "https://localhost:8080/"
        },
        "id": "iMlvt0sIIdyV",
        "outputId": "92cd2889-ff10-4a5e-8a9d-4411d77d8a96"
      },
      "execution_count": null,
      "outputs": [
        {
          "output_type": "stream",
          "name": "stdout",
          "text": [
            "  date_column1 date_column2  date_comparison\n",
            "0   2023-09-29   2023-09-28             True\n",
            "1   2023-09-30   2023-09-30            False\n",
            "2   2023-10-01   2023-10-02            False\n"
          ]
        }
      ]
    },
    {
      "cell_type": "markdown",
      "source": [
        "### Nyoba Rek"
      ],
      "metadata": {
        "id": "2YotJ7dyLlI9"
      }
    },
    {
      "cell_type": "code",
      "source": [
        "test_order = pd.read_csv(\"/content/test_Orders.csv\")"
      ],
      "metadata": {
        "id": "-dVgXUR2LhG8"
      },
      "execution_count": null,
      "outputs": []
    },
    {
      "cell_type": "code",
      "source": [],
      "metadata": {
        "id": "Z4C3HVz4OoL4"
      },
      "execution_count": null,
      "outputs": []
    },
    {
      "cell_type": "code",
      "source": [
        "print(test_order)"
      ],
      "metadata": {
        "colab": {
          "base_uri": "https://localhost:8080/"
        },
        "id": "FU7qwxsiN1SB",
        "outputId": "7112db32-ce60-4758-c673-8992c9a4990d"
      },
      "execution_count": null,
      "outputs": [
        {
          "output_type": "stream",
          "name": "stdout",
          "text": [
            "           order_id   customer_id order_purchase_timestamp  \\\n",
            "0      u6rPMRAYIGig  I74lXDOfoqsp      2017-11-18 12:29:57   \n",
            "1      ohY8f4FEbX19  47TuLHF2s7X5      2018-06-02 17:13:12   \n",
            "2      I28liQek73i2  dQ0dqI8Qwlj8      2018-01-08 11:01:30   \n",
            "3      bBG1T89mlY8W  iQCmWhNkIczb      2017-03-10 10:24:46   \n",
            "4      CYxJJSQS8Lbo  Dp2g6JH8tO5Z      2017-12-02 10:04:07   \n",
            "...             ...           ...                      ...   \n",
            "38274  QKBW3XKevmfn  Dw3aCTFf4Q4G      2018-08-24 11:54:56   \n",
            "38275  Tjiw9bj8HtLr  JmHJqJvpVcJs      2017-03-25 20:39:11   \n",
            "38276  mCPofb7A1aTq  ro5DikwWCC3j      2018-08-16 13:39:30   \n",
            "38277  scVuqN10zbgb  R25nE2rl77AU      2018-06-27 13:17:05   \n",
            "38278  oLKXX8tqU6eQ  oOvkrmF7ZZbI      2017-09-08 09:22:24   \n",
            "\n",
            "         order_approved_at  \n",
            "0      2017-11-18 12:46:08  \n",
            "1      2018-06-02 20:12:23  \n",
            "2      2018-01-09 07:24:03  \n",
            "3      2017-03-10 10:24:46  \n",
            "4      2017-12-05 04:13:30  \n",
            "...                    ...  \n",
            "38274  2018-08-24 12:05:22  \n",
            "38275  2017-03-25 20:50:17  \n",
            "38276  2018-08-17 03:31:06  \n",
            "38277  2018-06-28 08:50:58  \n",
            "38278  2017-09-08 09:35:20  \n",
            "\n",
            "[38279 rows x 4 columns]\n"
          ]
        }
      ]
    },
    {
      "cell_type": "code",
      "source": [
        "testing = test_order.merge(fixed, on=\"customer_id\", how=\"inner\")\n",
        "\n",
        "print(testing)"
      ],
      "metadata": {
        "colab": {
          "base_uri": "https://localhost:8080/"
        },
        "id": "kL6-sB_nMRHz",
        "outputId": "8b904cf0-6c00-43ed-f0ca-a776419b57e1"
      },
      "execution_count": null,
      "outputs": [
        {
          "output_type": "stream",
          "name": "stdout",
          "text": [
            "Empty DataFrame\n",
            "Columns: [order_id_x, customer_id, order_purchase_timestamp_x, order_approved_at_x, shipping_charges, order_id_y, order_status, order_purchase_timestamp_y, order_approved_at_y, order_delivered_timestamp, order_estimated_delivery_date, is_late]\n",
            "Index: []\n"
          ]
        }
      ]
    }
  ]
}